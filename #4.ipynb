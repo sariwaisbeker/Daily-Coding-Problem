{
 "cells": [
  {
   "cell_type": "code",
   "execution_count": 6,
   "id": "6c3876d7",
   "metadata": {},
   "outputs": [
    {
     "name": "stdout",
     "output_type": "stream",
     "text": [
      "2\n"
     ]
    }
   ],
   "source": [
    "def first_positive(arr):\n",
    "    n = len(arr)\n",
    "    for i in range(n):\n",
    "        while 1 <= arr[i] <= n and arr[i] != arr[arr[i]-1]:\n",
    "            temp = arr[i]\n",
    "            arr[i] = arr[temp-1]\n",
    "            arr[temp-1] = temp\n",
    "    for i in range(n):\n",
    "        if arr[i] != i+1:\n",
    "            return i+1\n",
    "    return n + 1\n",
    "print(first_positive([3, 4, -1, 1]))"
   ]
  },
  {
   "cell_type": "code",
   "execution_count": null,
   "id": "740decdb",
   "metadata": {},
   "outputs": [],
   "source": []
  }
 ],
 "metadata": {
  "kernelspec": {
   "display_name": "Python 3 (ipykernel)",
   "language": "python",
   "name": "python3"
  },
  "language_info": {
   "codemirror_mode": {
    "name": "ipython",
    "version": 3
   },
   "file_extension": ".py",
   "mimetype": "text/x-python",
   "name": "python",
   "nbconvert_exporter": "python",
   "pygments_lexer": "ipython3",
   "version": "3.11.5"
  }
 },
 "nbformat": 4,
 "nbformat_minor": 5
}
