{
 "cells": [
  {
   "cell_type": "code",
   "execution_count": 116,
   "id": "d3e4cc71",
   "metadata": {},
   "outputs": [],
   "source": [
    "class Node:\n",
    "    def __init__(self, val, left=None, right=None):\n",
    "        self.val = val\n",
    "        self.left = left\n",
    "        self.right = right"
   ]
  },
  {
   "cell_type": "code",
   "execution_count": 117,
   "id": "9faf737d",
   "metadata": {},
   "outputs": [],
   "source": [
    "def serialize(root):\n",
    "    def helper(node):\n",
    "        if node is None:\n",
    "            return \"None,\"\n",
    "        return f\"{node.val},\"+helper(node.left)+helper(node.right)\n",
    "    return helper(root)"
   ]
  },
  {
   "cell_type": "code",
   "execution_count": 118,
   "id": "a0d7255e",
   "metadata": {},
   "outputs": [],
   "source": [
    "def deserialize(s):\n",
    "    def helper(node_list):\n",
    "        \n",
    "        if node_list == []:\n",
    "           return \n",
    "        val = node_list.pop(0)\n",
    "        if val == \"None\":\n",
    "            return None\n",
    "        node = Node(val)\n",
    "        node.left = helper(node_list)\n",
    "        node.right = helper(node_list)\n",
    "        return node\n",
    "    \n",
    "    str_split = s.split(\",\")[:-1]\n",
    "    return helper(str_split)\n",
    "        "
   ]
  },
  {
   "cell_type": "code",
   "execution_count": 119,
   "id": "c5e5a257",
   "metadata": {
    "scrolled": false
   },
   "outputs": [
    {
     "name": "stdout",
     "output_type": "stream",
     "text": [
      "right\n",
      "root,left,left.left,None,None,None,right,None,None,\n",
      "right\n"
     ]
    }
   ],
   "source": [
    "node = Node('root', Node('left', Node('left.left')), Node('right'))\n",
    "print(node.right.val)\n",
    "print(serialize(node))\n",
    "print(deserialize(serialize(node)).right.val)\n",
    "assert deserialize(serialize(node)).left.left.val == 'left.left'"
   ]
  },
  {
   "cell_type": "code",
   "execution_count": null,
   "id": "430de1a4",
   "metadata": {},
   "outputs": [],
   "source": []
  }
 ],
 "metadata": {
  "kernelspec": {
   "display_name": "Python 3 (ipykernel)",
   "language": "python",
   "name": "python3"
  },
  "language_info": {
   "codemirror_mode": {
    "name": "ipython",
    "version": 3
   },
   "file_extension": ".py",
   "mimetype": "text/x-python",
   "name": "python",
   "nbconvert_exporter": "python",
   "pygments_lexer": "ipython3",
   "version": "3.11.5"
  }
 },
 "nbformat": 4,
 "nbformat_minor": 5
}
